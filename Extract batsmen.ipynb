{
 "cells": [
  {
   "cell_type": "code",
   "execution_count": 3,
   "id": "fd59e480",
   "metadata": {},
   "outputs": [
    {
     "name": "stdout",
     "output_type": "stream",
     "text": [
      "1396.1978392601013\n"
     ]
    }
   ],
   "source": [
    "import numpy as np\n",
    "import time\n",
    "import cv2\n",
    "def isInteresting(frame,i):\n",
    "    tic=time.time()\n",
    "    \n",
    "    net = cv2.dnn.readNetFromDarknet('yolov3.cfg', 'yolov3.weights')\n",
    "    layer_names = net.getLayerNames()\n",
    "    output_layers = [layer_names[i - 1] for i in net.getUnconnectedOutLayers()]\n",
    "    image = frame\n",
    "    blob = cv2.dnn.blobFromImage(image, 1 / 255.0, (416, 416), swapRB=True, crop=False)\n",
    "    net.setInput(blob)\n",
    "    outputs = net.forward(output_layers)\n",
    "    \n",
    "    boxes = []\n",
    "    confidences = []\n",
    "    class_ids = []\n",
    "    conf_threshold = 0.4\n",
    "    nms_threshold = 0.4\n",
    "    \n",
    "    for output in outputs:\n",
    "        for detection in output:\n",
    "            scores = detection[5:]\n",
    "            class_id = np.argmax(scores)\n",
    "            confidence = scores[class_id]\n",
    "            if class_id == 0 and confidence > conf_threshold:\n",
    "                width, height = image.shape[1], image.shape[0]\n",
    "                x, y, w, h = detection[:4] * np.array([width, height, width, height])\n",
    "                x_min, y_min = int(x - w / 2), int(y - h / 2)\n",
    "                boxes.append([x_min, y_min, int(w), int(h)])\n",
    "                confidences.append(float(confidence))\n",
    "                class_ids.append(class_id)\n",
    "    \n",
    "    indices = cv2.dnn.NMSBoxes(boxes, confidences, conf_threshold, nms_threshold)\n",
    "    for box in indices:\n",
    "        x,y,w,h=boxes[box]\n",
    "        if(x>=300 and x<=650):\n",
    "            cv2.rectangle(image,(x,y),(x+w,y+h),(0,255,0),2)\n",
    "            cord.append(boxes[box])\n",
    "        else:\n",
    "            cv2.rectangle(image,(x,y),(x+w,y+h),(255,0,0),2)\n",
    "        cv2.imwrite(f'./New/frame_{i}.jpg',image)\n",
    "    if(len(indices)==0):\n",
    "        for box in boxes:\n",
    "            x,y,w,h=box\n",
    "            if(x>=300 and x<=650):\n",
    "                cv2.rectangle(image,(x,y),(x+w,y+h),(0,255,0),2)\n",
    "                cord.append(box)\n",
    "            else:\n",
    "                cv2.rectangle(image,(x,y),(x+w,y+h),(255,0,0),2)\n",
    "        cv2.imwrite(f'./New/frame_{i}.jpg',image)\n",
    "        \n",
    "tic=time.time()       \n",
    "cord=[]\n",
    "for i in range(425,855,1):\n",
    "    frame=cv2.imread(f'./Top/Top_{i}.jpg')\n",
    "    isInteresting(frame,i)\n",
    "print(time.time()-tic)\n",
    "    "
   ]
  },
  {
   "cell_type": "code",
   "execution_count": null,
   "id": "d6476ddf",
   "metadata": {},
   "outputs": [],
   "source": []
  }
 ],
 "metadata": {
  "kernelspec": {
   "display_name": "Python 3",
   "language": "python",
   "name": "python3"
  },
  "language_info": {
   "codemirror_mode": {
    "name": "ipython",
    "version": 3
   },
   "file_extension": ".py",
   "mimetype": "text/x-python",
   "name": "python",
   "nbconvert_exporter": "python",
   "pygments_lexer": "ipython3",
   "version": "3.9.4"
  }
 },
 "nbformat": 4,
 "nbformat_minor": 5
}
