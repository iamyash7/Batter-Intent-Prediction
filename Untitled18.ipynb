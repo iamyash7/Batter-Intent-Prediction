{
 "cells": [
  {
   "cell_type": "code",
   "execution_count": 1,
   "id": "883dbeaf",
   "metadata": {},
   "outputs": [],
   "source": [
    "import cv2\n",
    "import time\n",
    "import math\n",
    "import csv\n",
    "import pandas as pd\n",
    "from pathlib import Path\n",
    "import re\n",
    "import numpy as np\n",
    "import sys\n",
    "import os"
   ]
  },
  {
   "cell_type": "code",
   "execution_count": 1,
   "id": "23c11a3b",
   "metadata": {},
   "outputs": [
    {
     "name": "stdout",
     "output_type": "stream",
     "text": [
      "['C:\\\\Users\\\\Yash', 'C:\\\\Users\\\\Yash\\\\models\\\\research', 'C:\\\\Users\\\\Yash\\\\AppData\\\\Local\\\\Programs\\\\Python\\\\Python39\\\\python39.zip', 'C:\\\\Users\\\\Yash\\\\AppData\\\\Local\\\\Programs\\\\Python\\\\Python39\\\\DLLs', 'C:\\\\Users\\\\Yash\\\\AppData\\\\Local\\\\Programs\\\\Python\\\\Python39\\\\lib', 'C:\\\\Users\\\\Yash\\\\AppData\\\\Local\\\\Programs\\\\Python\\\\Python39', '', 'C:\\\\Users\\\\Yash\\\\AppData\\\\Roaming\\\\Python\\\\Python39\\\\site-packages', 'C:\\\\Users\\\\Yash\\\\AppData\\\\Local\\\\Programs\\\\Python\\\\Python39\\\\lib\\\\site-packages', 'C:\\\\Users\\\\Yash\\\\AppData\\\\Local\\\\Programs\\\\Python\\\\Python39\\\\lib\\\\site-packages\\\\win32', 'C:\\\\Users\\\\Yash\\\\AppData\\\\Local\\\\Programs\\\\Python\\\\Python39\\\\lib\\\\site-packages\\\\win32\\\\lib', 'C:\\\\Users\\\\Yash\\\\AppData\\\\Local\\\\Programs\\\\Python\\\\Python39\\\\lib\\\\site-packages\\\\Pythonwin', 'C:\\\\Users\\\\Yash\\\\AppData\\\\Local\\\\Programs\\\\Python\\\\Python39\\\\lib\\\\site-packages\\\\IPython\\\\extensions', 'C:\\\\Users\\\\Yash\\\\.ipython']\n"
     ]
    }
   ],
   "source": [
    "import sys\n",
    "print(sys.path)"
   ]
  },
  {
   "cell_type": "code",
   "execution_count": 2,
   "id": "4705a655",
   "metadata": {},
   "outputs": [],
   "source": [
    "import mediapipe as mp"
   ]
  },
  {
   "cell_type": "code",
   "execution_count": 3,
   "id": "19cd9c54",
   "metadata": {},
   "outputs": [],
   "source": [
    "class poseDetector():\n",
    "\n",
    "    def __init__(self, mode=False, upBody=False, smooth=True,\n",
    "                 detectionCon=0.5, trackCon=0.5):\n",
    "\n",
    "        self.mode = mode\n",
    "\n",
    "        self.upBody = upBody\n",
    "\n",
    "        self.smooth = smooth\n",
    "\n",
    "        self.detectionCon = detectionCon\n",
    "\n",
    "        self.trackCon = trackCon\n",
    "\n",
    "        self.mpDraw = mp.solutions.drawing_utils\n",
    "\n",
    "        self.mpPose = mp.solutions.pose\n",
    "# test diff values of this param for robustness, maybe always remove first and last peaks\n",
    "        self.pose =self.mpPose.Pose(model_complexity=2,smooth_landmarks = True,min_detection_confidence=0.5,\n",
    "                          min_tracking_confidence=0.5)# self.mpPose.Pose(~self.mode, self.upBody, self.smooth,     self.detectionCon, self.trackCon~)\n",
    "\n",
    "    def findPose(self, img, draw=True):   # THIS draw is responsible for drawing stick figure\n",
    "\n",
    "        imgRGB = cv2.cvtColor(img, cv2.COLOR_BGR2RGB)\n",
    "\n",
    "        self.results = self.pose.process(imgRGB)\n",
    "        # print(self.results)\n",
    "        if self.results.pose_landmarks:\n",
    "            if draw:\n",
    "                # print(self.results.pose_landmarks,self.mpPose.POSE_CONNECTIONS)\n",
    "                self.mpDraw.draw_landmarks(img, self.results.pose_landmarks,\n",
    "                                           self.mpPose.POSE_CONNECTIONS)\n",
    "        # print(\"pose worls landmarks\")\n",
    "        # self.mpDraw.plot_landmarks(\n",
    "        # self.results.pose_world_landmarks, self.mpPose.POSE_CONNECTIONS)\n",
    "        return img\n",
    "\n",
    "    def findPosition(self, img, draw=True):\n",
    "        font                   = cv2.FONT_HERSHEY_SIMPLEX\n",
    "        fontScale              = .5\n",
    "        fontColor              = (255,255,255)\n",
    "        thickness              = 2\n",
    "        lineType               = 2\n",
    "        self.lmList = []\n",
    "\n",
    "        if self.results.pose_landmarks:\n",
    "\n",
    "            for id, lm in enumerate(self.results.pose_landmarks.landmark):\n",
    "\n",
    "                h, w, c = img.shape\n",
    "                \n",
    "                if lm.visibility <.3:\n",
    "                    lm.x=lm.y=lm.z=-1\n",
    "#                 print(id, \" = \",lm.visibility)\n",
    "                # if id == 25:\n",
    "                #     print(id, lm)\n",
    "                cx, cy, cz = int(lm.x * w), int(lm.y * h), int(lm.z * w)\n",
    "\n",
    "                self.lmList.append([id, lm.x, lm.y, lm.z])\n",
    "\n",
    "                if draw:\n",
    "                    cv2.putText(img,str(id),    (cx,cy),     font,     fontScale,    fontColor,    thickness,    lineType)\n",
    "                    cv2.circle(img, (cx, cy), 5, (255, 0, 0), cv2.FILLED)\n",
    "        return self.lmList\n"
   ]
  },
  {
   "cell_type": "code",
   "execution_count": 4,
   "id": "a7672369",
   "metadata": {},
   "outputs": [],
   "source": [
    "def main1(frames, i, draw=False):\n",
    "    tic = time.time()\n",
    "    detector = poseDetector()\n",
    "    dic = {}\n",
    "    with open(f'TestMatch_{i}.csv', 'w+', newline='') as csv_file:\n",
    "        writer = csv.writer(csv_file, lineterminator='\\n')\n",
    "        for frame in frames:\n",
    "#             img = cv2.imread('./Top/v4/'+frame)\n",
    "            img=frame\n",
    "#             img=cv2.imread('./Frames/v4/'+frame)\n",
    "            img = detector.findPose(img)\n",
    "            cv2.imshow(\"\",img)\n",
    "            cv2.waitKey(0)\n",
    "            lmList = detector.findPosition(img, draw=True)\n",
    "            normalized_vectors = []\n",
    "            for pt in lmList:\n",
    "                normalized_vectors.append(( pt[1], pt[2], pt[3]))\n",
    "            dic[i] = normalized_vectors\n",
    "            i = i + 1    \n",
    "        cv2.destroyAllWindows()\n",
    "#         df = pd.DataFrame.from_dict(dic,orient='index')\n",
    "#         df.to_excel('output1.xlsx')\n",
    "        \n",
    "\n",
    "#         for key, value in dic.items():\n",
    "#             for i in value:\n",
    "#                 arr = []\n",
    "#                 arr.append(i[0])\n",
    "#                 arr.append(i[1])\n",
    "#                 arr.append(i[2])\n",
    "#                 arr.append(i[3])\n",
    "#                 writer.writerow(arr)\n",
    "        return dic\n"
   ]
  },
  {
   "cell_type": "code",
   "execution_count": 166,
   "id": "74ebb2a3",
   "metadata": {},
   "outputs": [
    {
     "name": "stdout",
     "output_type": "stream",
     "text": [
      "29.86842918395996\n"
     ]
    }
   ],
   "source": [
    "tic=time.time()\n",
    "# cap=cv2.VideoCapture('v4.mp4')\n",
    "\n",
    "folder_path = './Top/v4/'\n",
    "file_list =(os.listdir(folder_path))\n",
    "sorted_file_list = sorted(file_list, key=lambda x: int(re.search(r'\\d+', x).group()))\n",
    "frames=[]\n",
    "for i in sorted_file_list:\n",
    "    frame=cv2.imread(folder_path+i)\n",
    "    frames.append(frame)\n",
    "    \n",
    "# i=0\n",
    "# while(True): \n",
    "#     i+=1\n",
    "#     ret,frame=cap.read()\n",
    "#     if not ret:\n",
    "#         break\n",
    "#     if(i<1986):\n",
    "#         continue\n",
    "#     frames.append(frame)\n",
    "#     if(i>2009):\n",
    "#         break\n",
    "dic=main1(frames, 0, draw=False)\n",
    "print(time.time()-tic)"
   ]
  },
  {
   "cell_type": "code",
   "execution_count": 231,
   "id": "28bf4906",
   "metadata": {},
   "outputs": [
    {
     "name": "stdout",
     "output_type": "stream",
     "text": [
      "112\n"
     ]
    },
    {
     "data": {
      "text/plain": [
       "1246"
      ]
     },
     "execution_count": 231,
     "metadata": {},
     "output_type": "execute_result"
    }
   ],
   "source": [
    "numbers=[]\n",
    "for i in sorted_file_list:\n",
    "    numbers.append(re.search(r'\\d+',i).group())\n",
    "print(len(numbers))\n",
    "count=[]\n",
    "temp=int(numbers[0])\n",
    "\n",
    "for i in numbers:\n",
    "    if(int(i)!=temp+1):\n",
    "        count.append(temp)\n",
    "        count.append(int(i))\n",
    "    temp=int(i)\n",
    "count.append(int(numbers[-1]))\n",
    "count.pop(0)\n",
    "\n",
    "# for i in frames:\n",
    "#     all_frames.append(i)\n",
    "# print(len(all_frames))"
   ]
  },
  {
   "cell_type": "code",
   "execution_count": 232,
   "id": "20ae3c16",
   "metadata": {},
   "outputs": [
    {
     "data": {
      "text/plain": [
       "[1246, 1266, 8421, 8439, 8666, 8690, 11070, 11092, 11447, 11470]"
      ]
     },
     "execution_count": 232,
     "metadata": {},
     "output_type": "execute_result"
    }
   ],
   "source": [
    "count"
   ]
  },
  {
   "cell_type": "markdown",
   "id": "37ac55a6",
   "metadata": {},
   "source": [
    "## Stick started"
   ]
  },
  {
   "cell_type": "code",
   "execution_count": 169,
   "id": "45905e50",
   "metadata": {},
   "outputs": [
    {
     "name": "stdout",
     "output_type": "stream",
     "text": [
      "Successfully saved the landmarks to landmarks.csv.\n"
     ]
    }
   ],
   "source": [
    "import csv\n",
    "landmarks_dict =dic\n",
    "landmark_ids = [f'landmark_{i}' for i in range(1, 34)]\n",
    "sorted_frames = sorted(landmarks_dict.keys())\n",
    "\n",
    "rows = []\n",
    "for frame_id in sorted_frames:  \n",
    "    landmarks = landmarks_dict[frame_id]\n",
    "    row = {'frame_id': frame_id}\n",
    "    for i, landmark in enumerate(landmarks):\n",
    "        for j, coordinate in enumerate(landmark):\n",
    "            row[f'{landmark_ids[i]}_{j+1}'] = coordinate\n",
    "            \n",
    "    rows.append(row)\n",
    "csv_file = 'landmarks.csv'\n",
    "\n",
    "# Write the data to the CSV file\n",
    "with open(csv_file, 'w', newline='') as file:\n",
    "    writer = csv.DictWriter(file, fieldnames=['frame_id'] + [f'{landmark}_{axis}' for landmark in landmark_ids for axis in range(1,4,1)])\n",
    "    writer.writeheader()\n",
    "    writer.writerows(rows)\n",
    "\n",
    "print(f'Successfully saved the landmarks to {csv_file}.')\n"
   ]
  },
  {
   "cell_type": "code",
   "execution_count": 205,
   "id": "aa361147",
   "metadata": {
    "scrolled": true
   },
   "outputs": [],
   "source": [
    "import cv2\n",
    "import numpy as np\n",
    "\n",
    "landmarks=dic\n",
    "image_width = 720\n",
    "image_height = 720\n",
    "\n",
    "# Create a VideoWriter object to save the video\n",
    "output_path = 'output_video.mp4'\n",
    "fourcc = cv2.VideoWriter_fourcc(*'mp4v')\n",
    "video_out = cv2.VideoWriter(output_path, fourcc, 20, (image_width, image_height))\n",
    "connections = [\n",
    "    # Right arm connections\n",
    "    (12, 14),   # Right shoulder to Right elbow\n",
    "    (14, 16),   # Right elbow to Right wrist\n",
    "    \n",
    "    # Right side connections\n",
    "    (12, 24),   # Right shoulder to Right hip\n",
    "    (24, 26),   # Right hip to Right knee\n",
    "    (26, 28),   # Right knee to Right ankle\n",
    "    (28, 32),   # Right ankle to Right foot index\n",
    "    (28, 30),    # Right ankle to Right heel\n",
    "    \n",
    "    ###########\n",
    "    (11, 13),   # Right shoulder to Right elbow\n",
    "    (13, 15),   # Right elbow to Right wrist\n",
    "    \n",
    "    # Right side connections\n",
    "    (11, 23),   # Right shoulder to Right hip\n",
    "    (23, 25),   # Right hip to Right knee\n",
    "    (25, 27),   # Right knee to Right ankle\n",
    "    (27, 31),   # Right ankle to Right foot index\n",
    "    (27, 29)    # Right ankle to Right heel\n",
    "    \n",
    "]\n",
    "count=0\n",
    "for k, joint_coordinates in landmarks.items():\n",
    "    canvas = np.zeros((image_height, image_width, 3), dtype=np.uint8)\n",
    "\n",
    "    if len(joint_coordinates) == 0:\n",
    "        break\n",
    "\n",
    "#     for joint in joint_coordinates:\n",
    "#         if joint[0] == -1.0:\n",
    "#             continue\n",
    "#         x = int(joint[0] * image_width)\n",
    "#         y = int(joint[1] * image_height)\n",
    "# #         cv2.circle(canvas, (x, y), 5, (0, 255, 0), -1)\n",
    "\n",
    "    for connection in connections:\n",
    "        if joint_coordinates[connection[0]][0] == -1.0:\n",
    "            count+=1\n",
    "            continue\n",
    "        if joint_coordinates[connection[1]][0] == -1.0:\n",
    "            count+=1\n",
    "            continue\n",
    "        x1 = int(joint_coordinates[connection[0]][0] * image_width)\n",
    "        y1 = int(joint_coordinates[connection[0]][1] * image_height)\n",
    "        x2 = int(joint_coordinates[connection[1]][0] * image_width)\n",
    "        y2 = int(joint_coordinates[connection[1]][1] * image_height)\n",
    "        cv2.circle(canvas, (x1, y1), 5, (0, 255, 0), -1)\n",
    "        cv2.circle(canvas, (x2, y2), 5, (0, 255, 0), -1)\n",
    "        cv2.line(canvas, (x1, y1), (x2, y2), (255, 255, 255), 2)\n",
    "        \n",
    "    video_out.write(canvas)\n",
    "video_out.release()"
   ]
  },
  {
   "cell_type": "code",
   "execution_count": 234,
   "id": "457ab754",
   "metadata": {},
   "outputs": [
    {
     "name": "stdout",
     "output_type": "stream",
     "text": [
      "Multiple video clips extracted and saved to extracted_clips.mp4.\n"
     ]
    }
   ],
   "source": [
    "# import cv2\n",
    "\n",
    "# original_video_path = 'v4.mp4'\n",
    "# cap = cv2.VideoCapture(original_video_path)\n",
    "\n",
    "\n",
    "# fps = cap.get(cv2.CAP_PROP_FPS)\n",
    "# frame_width = int(cap.get(cv2.CAP_PROP_FRAME_WIDTH))\n",
    "# frame_height = int(cap.get(cv2.CAP_PROP_FRAME_HEIGHT))\n",
    "# total_frames = int(cap.get(cv2.CAP_PROP_FRAME_COUNT))\n",
    "\n",
    "# start_frame_index = 0  \n",
    "# end_frame_index = 45    \n",
    "\n",
    "# start_time = start_frame_index / fps\n",
    "# end_time = end_frame_index / fps\n",
    "# duration = end_time - start_time\n",
    "\n",
    "\n",
    "# output_path = 'extracted_clip.mp4'\n",
    "# fourcc = cv2.VideoWriter_fourcc(*'mp4v')\n",
    "# video_out = cv2.VideoWriter(output_path, fourcc, fps, (frame_width, frame_height))\n",
    "\n",
    "\n",
    "# cap.set(cv2.CAP_PROP_POS_FRAMES, start_frame_index)\n",
    "\n",
    "\n",
    "# while cap.isOpened():\n",
    "#     ret, frame = cap.read()\n",
    "#     if not ret:\n",
    "#         break\n",
    "\n",
    "#     # Write the frame to the output video\n",
    "#     video_out.write(frame)\n",
    "\n",
    "#     # Check if the current frame index exceeds the end frame index\n",
    "#     current_frame_index = cap.get(cv2.CAP_PROP_POS_FRAMES)\n",
    "#     if current_frame_index >= end_frame_index:\n",
    "#         break\n",
    "\n",
    "# cap.release()\n",
    "# video_out.release()\n",
    "\n",
    "# print(f\"Video clip extracted from {start_frame_index} to {end_frame_index} frames saved to {output_path}.\")\n",
    "\n",
    "original_video_path = 'v4.mp4'\n",
    "cap = cv2.VideoCapture(original_video_path)\n",
    "\n",
    "fps = cap.get(cv2.CAP_PROP_FPS)\n",
    "frame_width = int(cap.get(cv2.CAP_PROP_FRAME_WIDTH))\n",
    "frame_height = int(cap.get(cv2.CAP_PROP_FRAME_HEIGHT))\n",
    "\n",
    "output_path = 'extracted_clips.mp4'\n",
    "fourcc = cv2.VideoWriter_fourcc(*'mp4v')\n",
    "video_out = cv2.VideoWriter(output_path, fourcc, fps, (frame_width, frame_height))\n",
    "\n",
    "frame_ranges = [[1246, 1266], [8421, 8439], [8666, 8690], [11070, 11092], [11447, 11470]]\n",
    "\n",
    "for frame_range in frame_ranges:\n",
    "    start_frame_index = frame_range[0]\n",
    "    end_frame_index = frame_range[1]\n",
    "    \n",
    "    start_time = start_frame_index / fps\n",
    "    end_time = end_frame_index / fps\n",
    "\n",
    "    cap.set(cv2.CAP_PROP_POS_FRAMES, start_frame_index)\n",
    "\n",
    "    while cap.isOpened():\n",
    "        ret, frame = cap.read()\n",
    "        if not ret:\n",
    "            break\n",
    "\n",
    "        video_out.write(frame)\n",
    "        \n",
    "        current_frame_index = cap.get(cv2.CAP_PROP_POS_FRAMES)\n",
    "        if current_frame_index >= end_frame_index:\n",
    "            break\n",
    "\n",
    "cap.release()\n",
    "video_out.release()\n",
    "\n",
    "print(f\"Multiple video clips extracted and saved to {output_path}.\")\n"
   ]
  },
  {
   "cell_type": "code",
   "execution_count": 236,
   "id": "0dd193dc",
   "metadata": {},
   "outputs": [],
   "source": [
    "clip1_path = 'extracted_clips.mp4'\n",
    "clip2_path = 'output_video.mp4'\n",
    "# cap1.release()\n",
    "# cap2.release()\n",
    "# video_out.release()"
   ]
  },
  {
   "cell_type": "code",
   "execution_count": 237,
   "id": "875eba8b",
   "metadata": {},
   "outputs": [
    {
     "name": "stdout",
     "output_type": "stream",
     "text": [
      "Combined video saved to combined_video.mp4.\n"
     ]
    }
   ],
   "source": [
    "cap1 = cv2.VideoCapture(clip1_path)\n",
    "cap2 = cv2.VideoCapture(clip2_path)\n",
    "\n",
    "# Get the properties of the first clip\n",
    "frame_width1 = int(cap1.get(cv2.CAP_PROP_FRAME_WIDTH))\n",
    "frame_height1 = int(cap1.get(cv2.CAP_PROP_FRAME_HEIGHT))\n",
    "fps1 = cap1.get(cv2.CAP_PROP_FPS)\n",
    "total_frames1 = int(cap1.get(cv2.CAP_PROP_FRAME_COUNT))\n",
    "duration1 = total_frames1 / fps1\n",
    "\n",
    "# Get the properties of the second clip\n",
    "frame_width2 = int(cap2.get(cv2.CAP_PROP_FRAME_WIDTH))\n",
    "frame_height2 = int(cap2.get(cv2.CAP_PROP_FRAME_HEIGHT))\n",
    "fps2 = cap2.get(cv2.CAP_PROP_FPS)\n",
    "total_frames2 = int(cap2.get(cv2.CAP_PROP_FRAME_COUNT))\n",
    "duration2 = total_frames2 / fps2\n",
    "\n",
    "# Choose the output video properties based on the larger clip\n",
    "output_height = max(frame_height1, frame_height2)\n",
    "output_width = frame_width1 + frame_width2\n",
    "output_fps = min(fps1, fps2)  # Use the lower of the two fps values\n",
    "output_path = 'combined_video.mp4'\n",
    "\n",
    "# Create a VideoWriter object to save the combined video\n",
    "fourcc = cv2.VideoWriter_fourcc(*'mp4v')\n",
    "video_out = cv2.VideoWriter(output_path, fourcc, output_fps, (output_width, output_height))\n",
    "\n",
    "# Read and write frames until both clips are exhausted\n",
    "while True:\n",
    "    ret1, frame1 = cap1.read()\n",
    "    ret2, frame2 = cap2.read()\n",
    "\n",
    "    if not ret1 or not ret2:\n",
    "        break\n",
    "        \n",
    "    canvas = np.zeros((output_height, output_width, 3), dtype=np.uint8)\n",
    "    canvas[:frame_height1, :frame_width1, :] = frame1\n",
    "    canvas[:frame_height2, frame_width1:, :] = frame2\n",
    "\n",
    "    # Write the combined frame to the output video\n",
    "    video_out.write(canvas)\n",
    "\n",
    "# Release the video capture and writer objects\n",
    "cap1.release()\n",
    "cap2.release()\n",
    "video_out.release()\n",
    "\n",
    "print(f\"Combined video saved to {output_path}.\")\n"
   ]
  },
  {
   "cell_type": "code",
   "execution_count": 238,
   "id": "ade4cade",
   "metadata": {},
   "outputs": [],
   "source": [
    "cap = cv2.VideoCapture('combined_video.mp4')\n",
    "i=0\n",
    "while(True):\n",
    "    i+=1\n",
    "    ret,frame=cap.read()\n",
    "    if not ret:\n",
    "        break\n",
    "    cv2.imwrite('./Test/'+f'test{i}.jpg',frame)\n",
    "cv2.destroyAllWindows()\n",
    "cap.release()"
   ]
  },
  {
   "cell_type": "markdown",
   "id": "251e5b50",
   "metadata": {},
   "source": [
    "## Stick completed"
   ]
  },
  {
   "cell_type": "code",
   "execution_count": 19,
   "id": "cf8ec03d",
   "metadata": {},
   "outputs": [],
   "source": [
    "# dic=main1(frames,0,True)\n",
    "for i in frames:\n",
    "    cv2.imshow(\"frame\",i)\n",
    "    cv2.waitKey(0)\n",
    "cv2.destroyAllWindows()\n",
    "# dic[0]"
   ]
  },
  {
   "cell_type": "code",
   "execution_count": 8,
   "id": "1c502e07",
   "metadata": {},
   "outputs": [],
   "source": [
    "def main(path,filename,i,draw = False):\n",
    "    tic = time.time()\n",
    "\n",
    "    detector = poseDetector()\n",
    "\n",
    "    dic = {}\n",
    "    csv_file = open(f'data_{i}.csv', 'w+', newline='')\n",
    "    writer = csv.writer(csv_file,lineterminator='\\n ')\n",
    "    i = i\n",
    "    count=0\n",
    "    while(True):\n",
    "        i+=1\n",
    "        if(i>1000):\n",
    "            break\n",
    "        ret,frame=filename.read()\n",
    "        if not ret:\n",
    "            break\n",
    "        img=frame\n",
    "        img = detector.findPose(img)\n",
    "        lmList = detector.findPosition(img, draw=True)\n",
    "#         cv2.imwrite(f'./Frames/frame{i}.jpg',img)\n",
    "#         cv2.imshow(\"\",img)\n",
    "#         cv2.waitKey(0)\n",
    "#     cv2.destroyAllWindows()\n",
    "        normalized_vectors = [(\"time: \", time.time() - tic, \"\", \"format: id, x, y, z\")]\n",
    "#     for pt in lmList:\n",
    "#         normalized_vectors.append((pt[0], pt[1], pt[2], pt[3]))\n",
    "#     dic[i] = normalized_vectors\n",
    "\n",
    "#     for file in filename:\n",
    "#         i+=1\n",
    "#         img=cv2.imread(file)\n",
    "#         img = detector.findPose(img)\n",
    "        \n",
    "#         lmList = detector.findPosition(img, draw=True)\n",
    "#         cv2.imshow(\"\",img)\n",
    "#         cv2.waitKey(0)\n",
    "#         cv2.destroyAllWindows()\n",
    "#         normalized_vectors = [(\"time: \", time.time() - tic, \"\", \"format: id, x, y, z\")]\n",
    "#         if(len(lmList)==0):\n",
    "# #             print(f'frame {i} is 0\\n')\n",
    "# #             print('---------------------------------------------')\n",
    "# #             print(lmList)\n",
    "# #             print('---------------------------------------------')\n",
    "#             count+=1\n",
    "# #         else:\n",
    "# #             print(f'frame {i} is 1\\n')\n",
    "#         for pt in lmList:\n",
    "#             normalized_vectors.append((pt[0], pt[1], pt[2], pt[3]))\n",
    "            \n",
    "\n",
    "#         dic[i] = normalized_vectors\n",
    "\n",
    "# #         scale_percent = 60 # percent of original size\n",
    "# #         width = int(img.shape[1] * scale_percent / 100)\n",
    "# #         height = int(img.shape[0] * scale_percent / 100)\n",
    "# #         dim = (width, height)\n",
    "                \n",
    "#         # ##resize image\n",
    "# #         resized = cv2.resize(img, dim, interpolation = cv2.INTER_AREA)\n",
    "# #         cv2.imshow(\"Image\", img)\n",
    "\n",
    "# #         cv2.waitKey(0)\n",
    "# #     cv2.destroyAllWindows()\n",
    "#     print(\"No of zero len frames: \",count)\n",
    "    for key, value in dic.items():\n",
    "        arr = [key, ]\n",
    "        for i in value:\n",
    "            arr.append(i[0])\n",
    "            arr.append(i[1])\n",
    "            arr.append(i[2])\n",
    "            arr.append(i[3])\n",
    "        if len(arr) > 5:\n",
    "            writer.writerow(arr)\n",
    "            writer.writerow('\\n')\n",
    "    csv_file.close()\n",
    "    return count\n"
   ]
  },
  {
   "cell_type": "code",
   "execution_count": 25,
   "id": "7cb6b1ea",
   "metadata": {},
   "outputs": [
    {
     "name": "stdout",
     "output_type": "stream",
     "text": [
      "{0: [('time: ', 0.37418437004089355, '', 'format: id, x, y, z'), (0, 0.4693934917449951, 0.23748017847537994, -0.16904819011688232), (1, 0.46856680512428284, 0.2311164289712906, -0.16088977456092834), (2, 0.468682199716568, 0.23090186715126038, -0.16105519235134125), (3, 0.46887579560279846, 0.2308976650238037, -0.16104131937026978), (4, 0.46873921155929565, 0.2313949316740036, -0.16972850263118744), (5, 0.46895766258239746, 0.23123957216739655, -0.16987793147563934), (6, 0.46927785873413086, 0.23107710480690002, -0.16998235881328583), (7, 0.46922358870506287, 0.2333724945783615, -0.10790061950683594), (8, 0.46880874037742615, 0.23204460740089417, -0.14863474667072296), (9, 0.4701318144798279, 0.24339810013771057, -0.14717605710029602), (10, 0.4697628915309906, 0.2436853051185608, -0.15980768203735352), (11, 0.4696987271308899, 0.2663964033126831, -0.051198530942201614), (12, 0.4620598256587982, 0.2692805528640747, -0.1346355825662613), (13, 0.4951228201389313, 0.27927398681640625, -0.016005273908376694), (14, -1.0, -1.0, -1.0), (15, 0.5183959007263184, 0.24427911639213562, -0.05098371580243111), (16, 0.4716624319553375, 0.32305413484573364, -0.2586868703365326), (17, 0.5232832431793213, 0.23970243334770203, -0.05656217411160469), (18, 0.4732101559638977, 0.3214963674545288, -0.2870804965496063), (19, 0.5244695544242859, 0.23623809218406677, -0.07572250068187714), (20, 0.47267860174179077, 0.3159789443016052, -0.2889946699142456), (21, 0.5223950147628784, 0.23848161101341248, -0.059342749416828156), (22, -1.0, -1.0, -1.0), (23, 0.466818243265152, 0.3744872510433197, 0.026117723435163498), (24, 0.46581143140792847, 0.3671460747718811, -0.026202237233519554), (25, -1.0, -1.0, -1.0), (26, 0.45411261916160583, 0.3982939124107361, -0.017586879432201385), (27, -1.0, -1.0, -1.0), (28, -1.0, -1.0, -1.0), (29, -1.0, -1.0, -1.0), (30, -1.0, -1.0, -1.0), (31, -1.0, -1.0, -1.0), (32, -1.0, -1.0, -1.0)], 1: [('time: ', 0.4400506019592285, '', 'format: id, x, y, z'), (0, 0.4682866930961609, 0.23626402020454407, -0.22642886638641357), (1, 0.46779924631118774, 0.22993405163288116, -0.2202439308166504), (2, 0.46834033727645874, 0.2296893298625946, -0.22037282586097717), (3, 0.46882763504981995, 0.2295994907617569, -0.22033794224262238), (4, 0.4667600095272064, 0.23042593896389008, -0.2287626564502716), (5, 0.46657782793045044, 0.23048442602157593, -0.22889192402362823), (6, 0.4662799835205078, 0.23053699731826782, -0.2289699763059616), (7, 0.4695459306240082, 0.23142823576927185, -0.16849873960018158), (8, 0.46674734354019165, 0.23191799223423004, -0.20660236477851868), (9, 0.46974730491638184, 0.24132415652275085, -0.20391111075878143), (10, 0.46884870529174805, 0.24186572432518005, -0.21570344269275665), (11, 0.46737805008888245, 0.2548467516899109, -0.0893845185637474), (12, 0.46292009949684143, 0.26702752709388733, -0.18728992342948914), (13, 0.47673550248146057, 0.2863698899745941, -0.07794002443552017), (14, -1.0, -1.0, -1.0), (15, 0.48225337266921997, 0.2934495806694031, -0.1477857530117035), (16, 0.4820050299167633, 0.3052511513233185, -0.2433805912733078), (17, 0.48266664147377014, 0.2938339114189148, -0.15999944508075714), (18, 0.4834405779838562, 0.3013683259487152, -0.266319215297699), (19, 0.48335233330726624, 0.28923508524894714, -0.17379529774188995), (20, 0.48091787099838257, 0.293769508600235, -0.2685360014438629), (21, 0.4831102788448334, 0.2891046404838562, -0.15455012023448944), (22, -1.0, -1.0, -1.0), (23, 0.46222537755966187, 0.3306574523448944, 0.03536789491772652), (24, 0.4575790464878082, 0.33824530243873596, -0.03543848544359207), (25, 0.4819026589393616, 0.38311082124710083, 0.021900638937950134), (26, 0.4727693200111389, 0.3758581876754761, -0.09225647151470184), (27, -1.0, -1.0, -1.0), (28, 0.45735448598861694, 0.43509751558303833, -0.025239989161491394), (29, -1.0, -1.0, -1.0), (30, -1.0, -1.0, -1.0), (31, -1.0, -1.0, -1.0), (32, 0.46499690413475037, 0.4599200487136841, -0.05332475155591965)]}\n"
     ]
    }
   ],
   "source": [
    "cap=cv2.VideoCapture('v4.mp4')\n",
    "ret,frame1=cap.read()\n",
    "ret,frame2=cap.read()\n",
    "frames=[]\n",
    "frames.append(frame1)\n",
    "frames.append(frame2)\n",
    "main1(frames,0,True)\n",
    "cv2.destroyAllWindows()"
   ]
  },
  {
   "cell_type": "code",
   "execution_count": 18,
   "id": "7174474e",
   "metadata": {
    "scrolled": false
   },
   "outputs": [
    {
     "ename": "KeyboardInterrupt",
     "evalue": "",
     "output_type": "error",
     "traceback": [
      "\u001b[1;31m---------------------------------------------------------------------------\u001b[0m",
      "\u001b[1;31mKeyboardInterrupt\u001b[0m                         Traceback (most recent call last)",
      "\u001b[1;32m<ipython-input-18-0dd6d866ae9d>\u001b[0m in \u001b[0;36m<module>\u001b[1;34m\u001b[0m\n\u001b[0;32m     12\u001b[0m         \u001b[1;32mif\u001b[0m \u001b[1;32mnot\u001b[0m \u001b[0mret\u001b[0m\u001b[1;33m:\u001b[0m\u001b[1;33m\u001b[0m\u001b[1;33m\u001b[0m\u001b[0m\n\u001b[0;32m     13\u001b[0m             \u001b[1;32mbreak\u001b[0m\u001b[1;33m\u001b[0m\u001b[1;33m\u001b[0m\u001b[0m\n\u001b[1;32m---> 14\u001b[1;33m         \u001b[0mmain\u001b[0m\u001b[1;33m(\u001b[0m\u001b[1;34m''\u001b[0m\u001b[1;33m,\u001b[0m\u001b[0mframe\u001b[0m\u001b[1;33m,\u001b[0m\u001b[0mi\u001b[0m\u001b[1;33m,\u001b[0m\u001b[1;32mTrue\u001b[0m\u001b[1;33m)\u001b[0m\u001b[1;33m\u001b[0m\u001b[1;33m\u001b[0m\u001b[0m\n\u001b[0m\u001b[0;32m     15\u001b[0m         \u001b[1;32mif\u001b[0m\u001b[1;33m(\u001b[0m\u001b[0mi\u001b[0m\u001b[1;33m>\u001b[0m\u001b[1;36m250\u001b[0m\u001b[1;33m)\u001b[0m\u001b[1;33m:\u001b[0m\u001b[1;33m\u001b[0m\u001b[1;33m\u001b[0m\u001b[0m\n\u001b[0;32m     16\u001b[0m             \u001b[1;32mbreak\u001b[0m\u001b[1;33m\u001b[0m\u001b[1;33m\u001b[0m\u001b[0m\n",
      "\u001b[1;32m<ipython-input-17-61f67c7ce3f7>\u001b[0m in \u001b[0;36mmain\u001b[1;34m(path, filename, i, draw)\u001b[0m\n\u001b[0;32m     16\u001b[0m     \u001b[0mlmList\u001b[0m \u001b[1;33m=\u001b[0m \u001b[0mdetector\u001b[0m\u001b[1;33m.\u001b[0m\u001b[0mfindPosition\u001b[0m\u001b[1;33m(\u001b[0m\u001b[0mimg\u001b[0m\u001b[1;33m,\u001b[0m \u001b[0mdraw\u001b[0m\u001b[1;33m=\u001b[0m\u001b[1;32mTrue\u001b[0m\u001b[1;33m)\u001b[0m\u001b[1;33m\u001b[0m\u001b[1;33m\u001b[0m\u001b[0m\n\u001b[0;32m     17\u001b[0m     \u001b[0mcv2\u001b[0m\u001b[1;33m.\u001b[0m\u001b[0mimshow\u001b[0m\u001b[1;33m(\u001b[0m\u001b[1;34m\"\"\u001b[0m\u001b[1;33m,\u001b[0m\u001b[0mimg\u001b[0m\u001b[1;33m)\u001b[0m\u001b[1;33m\u001b[0m\u001b[1;33m\u001b[0m\u001b[0m\n\u001b[1;32m---> 18\u001b[1;33m     \u001b[0mcv2\u001b[0m\u001b[1;33m.\u001b[0m\u001b[0mwaitKey\u001b[0m\u001b[1;33m(\u001b[0m\u001b[1;36m0\u001b[0m\u001b[1;33m)\u001b[0m\u001b[1;33m\u001b[0m\u001b[1;33m\u001b[0m\u001b[0m\n\u001b[0m\u001b[0;32m     19\u001b[0m     \u001b[0mcv2\u001b[0m\u001b[1;33m.\u001b[0m\u001b[0mdestroyAllWindows\u001b[0m\u001b[1;33m(\u001b[0m\u001b[1;33m)\u001b[0m\u001b[1;33m\u001b[0m\u001b[1;33m\u001b[0m\u001b[0m\n\u001b[0;32m     20\u001b[0m     \u001b[0mnormalized_vectors\u001b[0m \u001b[1;33m=\u001b[0m \u001b[1;33m[\u001b[0m\u001b[1;33m(\u001b[0m\u001b[1;34m\"time: \"\u001b[0m\u001b[1;33m,\u001b[0m \u001b[0mtime\u001b[0m\u001b[1;33m.\u001b[0m\u001b[0mtime\u001b[0m\u001b[1;33m(\u001b[0m\u001b[1;33m)\u001b[0m \u001b[1;33m-\u001b[0m \u001b[0mtic\u001b[0m\u001b[1;33m,\u001b[0m \u001b[1;34m\"\"\u001b[0m\u001b[1;33m,\u001b[0m \u001b[1;34m\"format: id, x, y, z\"\u001b[0m\u001b[1;33m)\u001b[0m\u001b[1;33m]\u001b[0m\u001b[1;33m\u001b[0m\u001b[1;33m\u001b[0m\u001b[0m\n",
      "\u001b[1;31mKeyboardInterrupt\u001b[0m: "
     ]
    }
   ],
   "source": [
    "tic=time.time()\n",
    "if __name__ == \"__main__\":\n",
    "    \n",
    "    files = []\n",
    "    \n",
    "    file='v3.mp4'\n",
    "    cap = cv2.VideoCapture(file)\n",
    "    i=0\n",
    "    while(True):\n",
    "        i+=1\n",
    "        ret,frame=cap.read()\n",
    "        if not ret:\n",
    "            break\n",
    "        main('',frame,i,True)\n",
    "        if(i>250):\n",
    "            break\n",
    "#     for filenames in os.listdir('./New/'):\n",
    "#         files.append(os.path.join('./New/',filenames))\n",
    "#     sorted_files = sorted(files, key=lambda x: int(x.split('_')[-1].split('.')[0]))\n",
    "#     j=0\n",
    "#     lens=[]\n",
    "#     while(j<=50):\n",
    "#         i=j\n",
    "#         j+=25\n",
    "#         l=main('./Pose/',sorted_files[i:j],i,True)\n",
    "#         lens.append(l)\n",
    "#     print(sum(lens))\n",
    "print('time:',time.time()-tic)\n"
   ]
  },
  {
   "cell_type": "code",
   "execution_count": 24,
   "id": "3c81eec7",
   "metadata": {},
   "outputs": [
    {
     "name": "stdout",
     "output_type": "stream",
     "text": [
      "{1: [('time: ', 0.26741814613342285, '', 'format: id, x, y, z')], 2: [('time: ', 1.6226487159729004, '', 'format: id, x, y, z')], 3: [('time: ', 2.419381618499756, '', 'format: id, x, y, z')], 4: [('time: ', 2.9661996364593506, '', 'format: id, x, y, z')], 5: [('time: ', 3.466595411300659, '', 'format: id, x, y, z')], 6: [('time: ', 4.2164671421051025, '', 'format: id, x, y, z')], 7: [('time: ', 4.7476582527160645, '', 'format: id, x, y, z')], 8: [('time: ', 5.4038872718811035, '', 'format: id, x, y, z')], 9: [('time: ', 5.85717248916626, '', 'format: id, x, y, z')], 10: [('time: ', 6.31025767326355, '', 'format: id, x, y, z'), (0, 0.4740828573703766, 0.6331482529640198, -0.059685539454221725), (1, 0.47414296865463257, 0.6409724354743958, -0.05672721937298775), (2, 0.4737897515296936, 0.6414757966995239, -0.056781105697155), (3, 0.4734131693840027, 0.6417727470397949, -0.056787557899951935), (4, 0.4756907522678375, 0.6395947933197021, -0.05849780887365341), (5, 0.4763318598270416, 0.6391269564628601, -0.058550722897052765), (6, 0.47698837518692017, 0.6387091875076294, -0.058578915894031525), (7, 0.4741002917289734, 0.6387653946876526, -0.03518691658973694), (8, 0.47904857993125916, 0.6347417831420898, -0.04285484924912453), (9, 0.473545640707016, 0.6258509755134583, -0.0505191907286644), (10, 0.4754301607608795, 0.624254047870636, -0.053080249577760696), (11, 0.46961045265197754, 0.5943331122398376, -0.01889728754758835), (12, 0.4826992452144623, 0.5857570767402649, -0.03000764548778534), (13, 0.46345701813697815, 0.5445297360420227, -0.030873026698827744), (14, 0.47990506887435913, 0.5301921963691711, -0.044988129287958145), (15, 0.46420344710350037, 0.534957766532898, -0.07261057943105698), (16, 0.46852487325668335, 0.5460822582244873, -0.07463394850492477), (17, 0.4647555947303772, 0.5298207402229309, -0.08268319070339203), (18, 0.4645856022834778, 0.547195553779602, -0.08490873873233795), (19, 0.4648667275905609, 0.5383784174919128, -0.08522799611091614), (20, 0.4654358923435211, 0.5568341016769409, -0.08457114547491074), (21, -1.0, -1.0, -1.0), (22, 0.4667484760284424, 0.55699223279953, -0.07526159286499023), (23, 0.467430055141449, 0.4836405813694, 0.0027204006910324097), (24, 0.4756055772304535, 0.4802616238594055, -0.002734322566539049), (25, 0.45886868238449097, 0.3726309537887573, -0.00204363651573658), (26, 0.4672604501247406, 0.4026503562927246, -0.003937758971005678), (27, 0.45743346214294434, 0.34262722730636597, 0.05606541782617569), (28, 0.4632640779018402, 0.3614245057106018, 0.05869794636964798), (29, 0.45740658044815063, 0.34154775738716125, 0.06120019033551216), (30, -1.0, -1.0, -1.0), (31, 0.4581781327724457, 0.3212790787220001, 0.04600229114294052), (32, -1.0, -1.0, -1.0)], 11: [('time: ', 8.263113260269165, '', 'format: id, x, y, z'), (0, 0.47868019342422485, 0.5771116018295288, -0.08144102990627289), (1, 0.4797450602054596, 0.5844494104385376, -0.07950899004936218), (2, 0.4799672067165375, 0.5856689810752869, -0.07957953214645386), (3, 0.4801526665687561, 0.586631715297699, -0.07956746965646744), (4, 0.4801119863986969, 0.5814976692199707, -0.08608410507440567), (5, 0.48048391938209534, 0.5806789994239807, -0.08612975478172302), (6, 0.4808749258518219, 0.5799736380577087, -0.08615347743034363), (7, 0.48313069343566895, 0.5884808897972107, -0.05939222499728203), (8, 0.4843211770057678, 0.5800516605377197, -0.08902916312217712), (9, 0.47991275787353516, 0.5732274651527405, -0.07183597981929779), (10, 0.4800269603729248, 0.5706559419631958, -0.08078514039516449), (11, 0.48396235704421997, 0.572525680065155, -0.03132038563489914), (12, 0.4881872534751892, 0.5436581373214722, -0.0882057473063469), (13, 0.4702311158180237, 0.5460031032562256, -0.04657738655805588), (14, 0.47446709871292114, 0.5182843804359436, -0.103851817548275), (15, 0.4656745493412018, 0.5551741123199463, -0.10253753513097763), (16, 0.4674619138240814, 0.5504314303398132, -0.11005638539791107), (17, 0.46519041061401367, 0.559819221496582, -0.11267739534378052), (18, 0.464586079120636, 0.559537947177887, -0.12278308719396591), (19, 0.4663047790527344, 0.5651906132698059, -0.11680605262517929), (20, 0.4660395681858063, 0.5681568384170532, -0.12214603275060654), (21, -1.0, -1.0, -1.0), (22, 0.4672110974788666, 0.5652037262916565, -0.1104796901345253), (23, 0.48091012239456177, 0.47042757272720337, 0.018066927790641785), (24, 0.4846734404563904, 0.4495796263217926, -0.018100550398230553), (25, 0.46269720792770386, 0.42238643765449524, 0.05164201185107231), (26, 0.46466726064682007, 0.41643446683883667, -0.012099011801183224), (27, 0.45854297280311584, 0.3620840609073639, 0.10859087854623795), (28, 0.45896244049072266, 0.3591499328613281, 0.042445261031389236), (29, 0.459235280752182, 0.35055315494537354, 0.11317521333694458), (30, -1.0, -1.0, -1.0), (31, 0.4549899101257324, 0.3517550230026245, 0.1014539822936058), (32, 0.45392313599586487, 0.344340443611145, 0.0348045751452446)], 12: [('time: ', 8.5912024974823, '', 'format: id, x, y, z'), (0, 0.47802019119262695, 0.5777987837791443, -0.11130160093307495), (1, 0.47899097204208374, 0.5864927172660828, -0.10902144759893417), (2, 0.4791707396507263, 0.5875822901725769, -0.10909982025623322), (3, 0.47932296991348267, 0.5884305238723755, -0.10907979309558868), (4, 0.47953909635543823, 0.5839207172393799, -0.11677186191082001), (5, 0.4800073504447937, 0.5833137631416321, -0.11681988090276718), (6, 0.48048868775367737, 0.5827950239181519, -0.11685149371623993), (7, 0.4828949570655823, 0.5900554656982422, -0.08444039523601532), (8, 0.48464494943618774, 0.582993745803833, -0.11964939534664154), (9, 0.47947973012924194, 0.5721026659011841, -0.09963960200548172), (10, 0.47980374097824097, 0.5704758763313293, -0.11022772639989853), (11, 0.4854549765586853, 0.571552038192749, -0.048970699310302734), (12, 0.49004116654396057, 0.5403956770896912, -0.11477713286876678), (13, 0.4713815152645111, 0.5334717631340027, -0.04977114498615265), (14, 0.47437477111816406, 0.5088596940040588, -0.12734320759773254), (15, 0.4653869569301605, 0.5361711978912354, -0.09355466067790985), (16, 0.4650920331478119, 0.5386858582496643, -0.1294466257095337), (17, 0.464225709438324, 0.5500598549842834, -0.1031721830368042), (18, 0.46247783303260803, 0.5490866303443909, -0.1441633105278015), (19, 0.4652504324913025, 0.5528421401977539, -0.10851198434829712), (20, 0.4642881453037262, 0.5615584254264832, -0.14336946606636047), (21, -1.0, -1.0, -1.0), (22, 0.4656025469303131, 0.5575137734413147, -0.12989000976085663), (23, 0.48303309082984924, 0.4735066592693329, 0.021581564098596573), (24, 0.4870675206184387, 0.45116838812828064, -0.021611656993627548), (25, 0.4631013870239258, 0.4469054043292999, 0.07849491387605667), (26, 0.46473899483680725, 0.43069398403167725, 0.011412002146244049), (27, 0.4544335901737213, 0.3909456431865692, 0.1484079658985138), (28, 0.4584365785121918, 0.36703217029571533, 0.09121908247470856), (29, 0.4548060894012451, 0.3753810524940491, 0.1543206423521042), (30, -1.0, -1.0, -1.0), (31, 0.44539037346839905, 0.3931000530719757, 0.13965639472007751), (32, 0.4507872462272644, 0.35908910632133484, 0.08396441489458084)], 13: [('time: ', 9.419273853302002, '', 'format: id, x, y, z'), (0, 0.47729355096817017, 0.570997953414917, -0.11484599113464355), (1, 0.47799620032310486, 0.5801936388015747, -0.11322227865457535), (2, 0.4779821038246155, 0.5814081430435181, -0.11329716444015503), (3, 0.4779679775238037, 0.582356870174408, -0.11328443139791489), (4, 0.4790249466896057, 0.5781380534172058, -0.1206401139497757), (5, 0.47958141565322876, 0.5780038833618164, -0.12069286406040192), (6, 0.4801574647426605, 0.5779606103897095, -0.12073079496622086), (7, 0.4809325635433197, 0.5877301692962646, -0.09029556810855865), (8, 0.48342281579971313, 0.5821277499198914, -0.12423999607563019), (9, 0.47858038544654846, 0.5674735307693481, -0.10372426360845566), (10, 0.47911006212234497, 0.5662640929222107, -0.11391626298427582), (11, 0.48473572731018066, 0.5757188200950623, -0.05281560495495796), (12, 0.4896778166294098, 0.5477197766304016, -0.12169559299945831), (13, 0.472658634185791, 0.5450915098190308, -0.05147996544837952), (14, 0.47466978430747986, 0.5037946701049805, -0.14871807396411896), (15, 0.4649825692176819, 0.5541713237762451, -0.08953807502985), (16, 0.4598119258880615, 0.5210162401199341, -0.16638675332069397), (17, 0.4629499018192291, 0.5612431168556213, -0.09832359105348587), (18, 0.4559994339942932, 0.523847222328186, -0.18323984742164612), (19, 0.4636889100074768, 0.566277801990509, -0.10427454859018326), (20, 0.45626306533813477, 0.5381207466125488, -0.180536687374115), (21, -1.0, -1.0, -1.0), (22, 0.45802369713783264, 0.537378191947937, -0.1662926971912384), (23, 0.4835572838783264, 0.47847476601600647, 0.023371880874037743), (24, 0.48734360933303833, 0.4591512978076935, -0.023381823673844337), (25, 0.4626149535179138, 0.4380165934562683, 0.07691298425197601), (26, 0.4631916582584381, 0.4333679676055908, -0.007814321666955948), (27, 0.45428258180618286, 0.3926990032196045, 0.1495305448770523), (28, 0.4550803601741791, 0.3743601441383362, 0.06426958739757538), (29, 0.4547320008277893, 0.38032811880111694, 0.15565800666809082), (30, -1.0, -1.0, -1.0), (31, 0.44671255350112915, 0.3916171193122864, 0.14249153435230255), (32, 0.4473228454589844, 0.3653038442134857, 0.05457887053489685)], 14: [('time: ', 10.43475604057312, '', 'format: id, x, y, z'), (0, 0.47352737188339233, 0.6258835196495056, -0.15120375156402588), (1, 0.47519564628601074, 0.6351783275604248, -0.1492752879858017), (2, 0.4756371080875397, 0.6362633109092712, -0.1493486613035202), (3, 0.4760958254337311, 0.637087345123291, -0.1493445783853531), (4, 0.475407212972641, 0.6322724223136902, -0.15754826366901398), (5, 0.4758586287498474, 0.6314588785171509, -0.15760476887226105), (6, 0.4763273596763611, 0.6307291984558105, -0.15764258801937103), (7, 0.4797620177268982, 0.6370507478713989, -0.12206195294857025), (8, 0.48159274458885193, 0.628987193107605, -0.15957893431186676), (9, 0.47612428665161133, 0.6179325580596924, -0.13834044337272644), (10, 0.4758949279785156, 0.616320013999939, -0.14958959817886353), (11, 0.4824523329734802, 0.6178010106086731, -0.08192481100559235), (12, 0.4883452355861664, 0.5706511735916138, -0.1482687145471573), (13, 0.470292866230011, 0.588308572769165, -0.09460200369358063), (14, 0.47418341040611267, 0.5263441205024719, -0.16062073409557343), (15, 0.46493443846702576, 0.6175079345703125, -0.1546289324760437), (16, 0.46191444993019104, 0.5672821998596191, -0.16188225150108337), (17, 0.46362847089767456, 0.6299123764038086, -0.16707298159599304), (18, 0.45823827385902405, 0.5793717503547668, -0.17572496831417084), (19, 0.4653480052947998, 0.6437780261039734, -0.17041558027267456), (20, 0.45966535806655884, 0.5920986533164978, -0.1756824105978012), (21, -1.0, -1.0, -1.0), (22, 0.46121206879615784, 0.5880488753318787, -0.1621677726507187), (23, 0.48060423135757446, 0.5166241526603699, 0.0238310806453228), (24, 0.48580846190452576, 0.4799382984638214, -0.023872127756476402), (25, 0.4555528163909912, 0.4921996295452118, 0.049875833094120026), (26, 0.4604972302913666, 0.4315577745437622, -0.023379098623991013), (27, 0.44953450560569763, 0.4390522539615631, 0.13849660754203796), (28, 0.4478990137577057, 0.38621190190315247, 0.052009593695402145), (29, 0.45105284452438354, 0.42856669425964355, 0.14666184782981873), (30, 0.44774192571640015, 0.3785149157047272, 0.05923960357904434), (31, 0.4397583603858948, 0.42621883749961853, 0.13368797302246094), (32, 0.4369213581085205, 0.37696418166160583, 0.037506379187107086)], 15: [('time: ', 10.965981245040894, '', 'format: id, x, y, z'), (0, 0.4735719561576843, 0.6557385921478271, -0.1780269891023636), (1, 0.475208580493927, 0.6658288836479187, -0.17572113871574402), (2, 0.4756689667701721, 0.6670836806297302, -0.17580439150333405), (3, 0.47609639167785645, 0.6680566668510437, -0.17580239474773407), (4, 0.47554245591163635, 0.6621783971786499, -0.18444512784481049), (5, 0.4760270118713379, 0.6609758734703064, -0.18450047075748444), (6, 0.47652825713157654, 0.6598508358001709, -0.18454423546791077), (7, 0.4807690680027008, 0.6656620502471924, -0.14536358416080475), (8, 0.48183879256248474, 0.6547527313232422, -0.18493333458900452), (9, 0.4760919213294983, 0.6463319659233093, -0.16381427645683289), (10, 0.4759337902069092, 0.6436366438865662, -0.17568817734718323), (11, 0.4862568974494934, 0.6374428868293762, -0.09714209288358688), (12, 0.4876357913017273, 0.5876699090003967, -0.1685173511505127), (13, 0.4770321846008301, 0.6041542887687683, -0.08504509925842285), (14, 0.47205978631973267, 0.5277743339538574, -0.17476749420166016), (15, 0.4669252932071686, 0.6223519444465637, -0.12123309075832367), (16, 0.4568273425102234, 0.5506212711334229, -0.17341884970664978), (17, 0.46500253677368164, 0.6328812837600708, -0.13082803785800934), (18, 0.45296043157577515, 0.5523710250854492, -0.18866388499736786), (19, 0.46556830406188965, 0.6366789937019348, -0.1376890242099762), (20, 0.4533558785915375, 0.573135495185852, -0.18953721225261688), (21, -1.0, -1.0, -1.0), (22, 0.4551301598548889, 0.5748316645622253, -0.1740637719631195), (23, 0.48293113708496094, 0.5383456945419312, 0.023326408118009567), (24, 0.48594874143600464, 0.5043030381202698, -0.02336319349706173), (25, 0.4558151364326477, 0.5001772046089172, 0.0718744620680809), (26, 0.45673298835754395, 0.45023617148399353, -0.019024603068828583), (27, 0.44942331314086914, 0.4692647159099579, 0.17757640779018402), (28, 0.44327133893966675, 0.3794798254966736, 0.05588504672050476), (29, -1.0, -1.0, -1.0), (30, 0.4427042007446289, 0.37186282873153687, 0.06526000052690506), (31, 0.44082027673721313, 0.46072638034820557, 0.17767329514026642), (32, 0.43384918570518494, 0.3758886158466339, 0.04533395916223526)], 16: [('time: ', 11.966059684753418, '', 'format: id, x, y, z'), (0, 0.4737289845943451, 0.6437280178070068, -0.17066849768161774), (1, 0.4751392900943756, 0.654996395111084, -0.16937479376792908), (2, 0.47549301385879517, 0.6565878391265869, -0.16946592926979065), (3, 0.4758341908454895, 0.6578940749168396, -0.16945719718933105), (4, 0.47564998269081116, 0.6514879465103149, -0.17694005370140076), (5, 0.4761524796485901, 0.6506863236427307, -0.1770080029964447), (6, 0.4766346514225006, 0.6499735713005066, -0.17706654965877533), (7, 0.48000630736351013, 0.6617142558097839, -0.1409054696559906), (8, 0.4822438359260559, 0.651029646396637, -0.175543412566185), (9, 0.4760500490665436, 0.6379594802856445, -0.15667693316936493), (10, 0.47597742080688477, 0.6353091597557068, -0.1671169102191925), (11, 0.4836094379425049, 0.6488683223724365, -0.09662674367427826), (12, 0.48854413628578186, 0.6029136776924133, -0.16043400764465332), (13, 0.4743521213531494, 0.6110446453094482, -0.09560787677764893), (14, 0.47017359733581543, 0.5387179255485535, -0.18171118199825287), (15, 0.46693602204322815, 0.6377062797546387, -0.13225550949573517), (16, 0.45099106431007385, 0.5487069487571716, -0.20000772178173065), (17, 0.4659671187400818, 0.6500087976455688, -0.14248117804527283), (18, 0.44567903876304626, 0.5410317182540894, -0.21858246624469757), (19, 0.4658396244049072, 0.6576314568519592, -0.14857438206672668), (20, 0.4450075626373291, 0.5620779395103455, -0.2169877290725708), (21, -1.0, -1.0, -1.0), (22, 0.4467391073703766, 0.5679699182510376, -0.20022019743919373), (23, 0.4811990261077881, 0.5412432551383972, 0.021225599572062492), (24, 0.48570483922958374, 0.5129983425140381, -0.021243009716272354), (25, 0.45628705620765686, 0.4754766821861267, 0.05962171405553818), (26, 0.4596676826477051, 0.4829171895980835, -0.01730508916079998), (27, 0.4448948800563812, 0.4532841145992279, 0.1431053727865219), (28, 0.44242945313453674, 0.4394809603691101, 0.05719541758298874), (29, 0.4449236989021301, 0.44707489013671875, 0.1504126936197281), (30, 0.44020622968673706, 0.4320162832736969, 0.06548916548490524), (31, 0.43677061796188354, 0.4484576880931854, 0.13230712711811066), (32, 0.4341391623020172, 0.430769145488739, 0.04203426092863083)], 17: [('time: ', 12.403558731079102, '', 'format: id, x, y, z'), (0, 0.48083800077438354, 0.6691920161247253, -0.15834471583366394), (1, 0.48017168045043945, 0.6787388920783997, -0.15906640887260437), (2, 0.4797840714454651, 0.6797370314598083, -0.1591673195362091), (3, 0.4793883264064789, 0.6803761124610901, -0.15917286276817322), (4, 0.48189544677734375, 0.6777516007423401, -0.16180486977100372), (5, 0.4825717806816101, 0.6779765486717224, -0.16188734769821167), (6, 0.4832637310028076, 0.6783040761947632, -0.16195407509803772), (7, 0.48068752884864807, 0.6865060329437256, -0.13720105588436127), (8, 0.48613613843917847, 0.6839542984962463, -0.14975693821907043), (9, 0.4811617434024811, 0.6665592193603516, -0.14675600826740265), (10, 0.48277711868286133, 0.6657342314720154, -0.15089094638824463), (11, 0.4817858338356018, 0.6678950190544128, -0.09714764356613159), (12, 0.4924846291542053, 0.658673882484436, -0.12072976678609848), (13, 0.4760972857475281, 0.637362003326416, -0.08096744120121002), (14, 0.48526421189308167, 0.6208223700523376, -0.1465173065662384), (15, -1.0, -1.0, -1.0), (16, 0.48236098885536194, 0.6116579174995422, -0.10337898880243301), (17, 0.4808097779750824, 0.6825160384178162, -0.09081926941871643), (18, 0.4819578230381012, 0.6094615459442139, -0.1086072102189064), (19, 0.4798668324947357, 0.6902509331703186, -0.09531078487634659), (20, 0.4829360842704773, 0.6114897131919861, -0.11178813874721527), (21, -1.0, -1.0, -1.0), (22, 0.48271211981773376, 0.6136651635169983, -0.10448805242776871), (23, 0.48001447319984436, 0.5517285466194153, 0.01388520747423172), (24, 0.4865940511226654, 0.5428435206413269, -0.013908048160374165), (25, 0.4568680226802826, 0.47338539361953735, 0.02117469348013401), (26, 0.46040716767311096, 0.5198608636856079, -0.005020120646804571), (27, 0.44503074884414673, 0.4645289480686188, 0.09528764337301254), (28, 0.4437510073184967, 0.4870544970035553, 0.05776342749595642), (29, 0.444209486246109, 0.46306145191192627, 0.10202085971832275), (30, 0.4412018358707428, 0.4796983003616333, 0.06562870740890503), (31, 0.44024428725242615, 0.4559696912765503, 0.08427078276872635), (32, 0.4371340274810791, 0.48311686515808105, 0.04496798664331436)], 18: [('time: ', 12.95032811164856, '', 'format: id, x, y, z'), (0, 0.48023930191993713, 0.6621094346046448, -0.13851197063922882), (1, 0.4802343249320984, 0.6718250513076782, -0.13854175806045532), (2, 0.48018011450767517, 0.6727023124694824, -0.13864482939243317), (3, 0.4801160395145416, 0.6732014417648315, -0.1386529505252838), (4, 0.4814276099205017, 0.6709752082824707, -0.1435067355632782), (5, 0.48204928636550903, 0.671217143535614, -0.14356856048107147), (6, 0.4826887547969818, 0.6716058850288391, -0.14360776543617249), (7, 0.48325052857398987, 0.6782491207122803, -0.11807016283273697), (8, 0.4868142604827881, 0.676429808139801, -0.14078032970428467), (9, 0.48182839155197144, 0.6581326127052307, -0.127518430352211), (10, 0.4827333390712738, 0.6578183770179749, -0.13454492390155792), (11, 0.4887775480747223, 0.659135103225708, -0.08329027146100998), (12, 0.49208131432533264, 0.6451867818832397, -0.11768080294132233), (13, 0.47906118631362915, 0.6140499711036682, -0.06912288069725037), (14, 0.48463478684425354, 0.6012757420539856, -0.12516701221466064), (15, -1.0, -1.0, -1.0), (16, 0.4744810163974762, 0.5867756605148315, -0.1228192076086998), (17, -1.0, -1.0, -1.0), (18, 0.4717886447906494, 0.5846724510192871, -0.13099220395088196), (19, -1.0, -1.0, -1.0), (20, 0.4727265238761902, 0.5911439657211304, -0.13412101566791534), (21, -1.0, -1.0, -1.0), (22, 0.4734860956668854, 0.5923077464103699, -0.12420622259378433), (23, 0.4867350459098816, 0.5456531047821045, 0.012095721438527107), (24, 0.48835334181785583, 0.5323343873023987, -0.012138629332184792), (25, 0.45963984727859497, 0.49430030584335327, 0.02900274656713009), (26, 0.4606425166130066, 0.514093279838562, 0.007735486142337322), (27, 0.4460841715335846, 0.5037750005722046, 0.09932704269886017), (28, 0.4408998489379883, 0.521709680557251, 0.07897301018238068), (29, 0.4444848597049713, 0.5012441277503967, 0.10542722791433334), (30, 0.43722090125083923, 0.5181661248207092, 0.08585569262504578), (31, 0.4420952796936035, 0.5128123760223389, 0.08954043686389923), (32, 0.436992347240448, 0.5347851514816284, 0.07011182606220245)], 19: [('time: ', 13.576215505599976, '', 'format: id, x, y, z'), (0, 0.4741242527961731, 0.6554039716720581, -0.265866219997406), (1, 0.4771392345428467, 0.660827100276947, -0.2674887776374817), (2, 0.47827810049057007, 0.6619905233383179, -0.26757997274398804), (3, 0.4796869158744812, 0.6628073453903198, -0.26757335662841797), (4, 0.47564348578453064, 0.6584879159927368, -0.2713857889175415), (5, 0.4752689003944397, 0.6587321758270264, -0.2714614272117615), (6, 0.4749119281768799, 0.660304605960846, -0.2715545892715454), (7, 0.481963574886322, 0.664690375328064, -0.23726244270801544), (8, 0.47705936431884766, 0.6571180820465088, -0.25454169511795044), (9, 0.475861132144928, 0.6518941521644592, -0.2494819164276123), (10, 0.47397178411483765, 0.6472739577293396, -0.25489291548728943), (11, 0.491367906332016, 0.646047055721283, -0.17370128631591797), (12, 0.46449142694473267, 0.6232545375823975, -0.19902582466602325), (13, 0.49273520708084106, 0.6044641137123108, -0.10768814384937286), (14, 0.44918912649154663, 0.6362679600715637, -0.1595120131969452), (15, -1.0, -1.0, -1.0), (16, 0.43409785628318787, 0.6490984559059143, -0.12234487384557724), (17, -1.0, -1.0, -1.0), (18, 0.430889755487442, 0.6538093686103821, -0.1334986388683319), (19, -1.0, -1.0, -1.0), (20, 0.43205374479293823, 0.6551900506019592, -0.13669313490390778), (21, -1.0, -1.0, -1.0), (22, 0.43517985939979553, 0.6523661017417908, -0.12344906479120255), (23, 0.4835560917854309, 0.5307333469390869, 0.009717674925923347), (24, 0.4663018584251404, 0.5182784795761108, -0.009796293452382088), (25, 0.46482762694358826, 0.5391180515289307, 0.14688101410865784), (26, 0.45168742537498474, 0.5790147185325623, 0.10863897949457169), (27, 0.44774460792541504, 0.508290708065033, 0.313053160905838), (28, 0.438576877117157, 0.5458803772926331, 0.2702511250972748), (29, -1.0, -1.0, -1.0), (30, 0.43797874450683594, 0.5376618504524231, 0.28784438967704773), (31, 0.44348376989364624, 0.531615138053894, 0.3240850865840912), (32, 0.4315343499183655, 0.5734838843345642, 0.27983808517456055)], 20: [('time: ', 14.107350826263428, '', 'format: id, x, y, z'), (0, 0.4657667577266693, 0.6817737817764282, -0.2203672230243683), (1, 0.46873602271080017, 0.6922830939292908, -0.22295360267162323), (2, 0.4691939353942871, 0.6949816942214966, -0.2230590283870697), (3, 0.4696834683418274, 0.6973368525505066, -0.2230452299118042), (4, 0.46932655572891235, 0.6844483017921448, -0.22868815064430237), (5, 0.4698914885520935, 0.6818151473999023, -0.2287556231021881), (6, 0.47044867277145386, 0.6795046329498291, -0.2288014143705368), (7, 0.4750433564186096, 0.6964919567108154, -0.20151707530021667), (8, 0.4760531485080719, 0.6724464297294617, -0.2265794724225998), (9, 0.4675918519496918, 0.6754952669143677, -0.20725283026695251), (10, 0.4679551124572754, 0.6678069233894348, -0.21501803398132324), (11, 0.48947039246559143, 0.6714982986450195, -0.16237026453018188), (12, 0.47421684861183167, 0.6179288029670715, -0.18659962713718414), (13, 0.4843023419380188, 0.622309684753418, -0.16262197494506836), (14, 0.4579179883003235, 0.5972773432731628, -0.16961374878883362), (15, -1.0, -1.0, -1.0), (16, 0.4440009593963623, 0.6407667994499207, -0.14872537553310394), (17, -1.0, -1.0, -1.0), (18, 0.43953365087509155, 0.658739447593689, -0.16285282373428345), (19, -1.0, -1.0, -1.0), (20, 0.4429565370082855, 0.6746346950531006, -0.16473528742790222), (21, -1.0, -1.0, -1.0), (22, 0.44522279500961304, 0.669510006904602, -0.15004095435142517), (23, 0.4815686345100403, 0.5702542662620544, 0.009719042107462883), (24, 0.4749680161476135, 0.5417946577072144, -0.009775184094905853), (25, 0.45845451951026917, 0.5232191681861877, 0.13406388461589813), (26, 0.45803961157798767, 0.5154215693473816, 0.10731563717126846), (27, 0.4469235837459564, 0.5126791000366211, 0.27301496267318726), (28, 0.4423958361148834, 0.503144383430481, 0.25249597430229187), (29, -1.0, -1.0, -1.0), (30, 0.4409215450286865, 0.5020360946655273, 0.26747697591781616), (31, 0.4404721260070801, 0.5269539952278137, 0.2732561230659485), (32, 0.43736591935157776, 0.5124697089195251, 0.25219398736953735)], 21: [('time: ', 14.560653924942017, '', 'format: id, x, y, z')], 22: [('time: ', 15.498039960861206, '', 'format: id, x, y, z')], 23: [('time: ', 15.888569831848145, '', 'format: id, x, y, z')], 24: [('time: ', 16.451009035110474, '', 'format: id, x, y, z'), (0, 0.4587341248989105, 0.5598326921463013, -0.19437746703624725), (1, 0.45940321683883667, 0.5409018993377686, -0.19052372872829437), (2, 0.4609759449958801, 0.5383307933807373, -0.19060541689395905), (3, 0.4625682830810547, 0.5360949039459229, -0.19059433043003082), (4, 0.4548444151878357, 0.5472949743270874, -0.1916627734899521), (5, 0.45322147011756897, 0.5495611429214478, -0.1917683333158493), (6, 0.4515852928161621, 0.5517590641975403, -0.19184023141860962), (7, 0.46516305208206177, 0.5390143394470215, -0.14975395798683167), (8, 0.4497891962528229, 0.5597875714302063, -0.15383754670619965), (9, 0.46304601430892944, 0.5703117847442627, -0.17680573463439941), (10, 0.4573841094970703, 0.5785983800888062, -0.17842890322208405), (11, 0.47922182083129883, 0.6138166189193726, -0.11135584115982056), (12, 0.4482651352882385, 0.6193074584007263, -0.13065125048160553), (13, 0.48502054810523987, 0.7127546668052673, -0.15912415087223053), (14, 0.4640127122402191, 0.672382652759552, -0.18759864568710327), (15, -1.0, -1.0, -1.0), (16, 0.4915013909339905, 0.6160981059074402, -0.24974139034748077), (17, -1.0, -1.0, -1.0), (18, 0.49952107667922974, 0.6100252270698547, -0.27255743741989136), (19, -1.0, -1.0, -1.0), (20, 0.49880513548851013, 0.5935961008071899, -0.26587823033332825), (21, -1.0, -1.0, -1.0), (22, 0.49657630920410156, 0.5957796573638916, -0.2488001137971878), (23, 0.4739799499511719, 0.7562884092330933, 0.004597815219312906), (24, 0.45619311928749084, 0.7600265741348267, -0.004628700669854879), (25, 0.4852991998195648, 0.8724502325057983, -0.041615262627601624), (26, 0.45706290006637573, 0.8839956521987915, -0.0280311219394207), (27, 0.48093360662460327, 0.9580225348472595, 0.047709014266729355), (28, 0.4585537016391754, 0.9984171390533447, 0.042333949357271194), (29, -1.0, -1.0, -1.0), (30, -1.0, -1.0, -1.0), (31, 0.4811851978302002, 0.992495059967041, 0.020141970366239548), (32, 0.45683375000953674, 1.0328452587127686, 0.006413300521671772)], 25: [('time: ', 16.825968265533447, '', 'format: id, x, y, z'), (0, 0.46779561042785645, 0.5996974110603333, -0.12020151317119598), (1, 0.46941131353378296, 0.5823422074317932, -0.11831219494342804), (2, 0.47074899077415466, 0.5807494521141052, -0.11840677261352539), (3, 0.47212862968444824, 0.5795811414718628, -0.11842547357082367), (4, 0.46518054604530334, 0.5838534832000732, -0.12192527204751968), (5, 0.4635750651359558, 0.5834985971450806, -0.12202920019626617), (6, 0.4619370400905609, 0.583004891872406, -0.12208811938762665), (7, 0.4727786183357239, 0.5708118081092834, -0.08532848954200745), (8, 0.457953542470932, 0.5757017135620117, -0.1011025458574295), (9, 0.4686533808708191, 0.6075613498687744, -0.10469809919595718), (10, 0.4629058837890625, 0.6029508113861084, -0.10972613096237183), (11, 0.48345932364463806, 0.6094963550567627, -0.06152265518903732), (12, 0.445748507976532, 0.6208927035331726, -0.09695901721715927), (13, 0.4974070191383362, 0.6249447464942932, -0.12849386036396027), (14, 0.4654557704925537, 0.6494044065475464, -0.1774720996618271), (15, -1.0, -1.0, -1.0), (16, 0.4941408038139343, 0.5821592807769775, -0.24985799193382263), (17, -1.0, -1.0, -1.0), (18, 0.5019218325614929, 0.5729575753211975, -0.27299124002456665), (19, -1.0, -1.0, -1.0), (20, 0.5017832517623901, 0.556201696395874, -0.2660190463066101), (21, -1.0, -1.0, -1.0), (22, 0.4996867775917053, 0.5602046251296997, -0.2491394728422165), (23, 0.48007282614707947, 0.7748852968215942, 0.005690095946192741), (24, 0.4551447331905365, 0.7860623598098755, -0.005743710789829493), (25, 0.4878250062465668, 0.927316427230835, -0.047348752617836), (26, 0.45559224486351013, 0.945293664932251, -0.05728130787611008), (27, -1.0, -1.0, -1.0), (28, 0.4573514461517334, 1.0383628606796265, 0.004348660819232464), (29, -1.0, -1.0, -1.0), (30, -1.0, -1.0, -1.0), (31, -1.0, -1.0, -1.0), (32, 0.45652347803115845, 1.0796632766723633, -0.02164381369948387)]}\n"
     ]
    }
   ],
   "source": [
    "print(lens[0])"
   ]
  },
  {
   "cell_type": "code",
   "execution_count": 2,
   "id": "759a11c1",
   "metadata": {},
   "outputs": [],
   "source": [
    "def isInteresting(frame,i):\n",
    "    net = cv2.dnn.readNetFromDarknet('yolov3.cfg', 'yolov3.weights')\n",
    "    layer_names = net.getLayerNames()\n",
    "    output_layers = [layer_names[i - 1] for i in net.getUnconnectedOutLayers()]\n",
    "    image = frame\n",
    "    blob = cv2.dnn.blobFromImage(image, 1 / 255.0, (416, 416), swapRB=True, crop=False)\n",
    "    net.setInput(blob)\n",
    "    outputs = net.forward(output_layers)\n",
    "    \n",
    "    boxes = []\n",
    "    confidences = []\n",
    "    class_ids = []\n",
    "    conf_threshold = 0.4\n",
    "    nms_threshold = 0.4\n",
    "    \n",
    "    for output in outputs:\n",
    "        for detection in output:\n",
    "            scores = detection[5:]\n",
    "            class_id = np.argmax(scores)\n",
    "            confidence = scores[class_id]\n",
    "            if class_id == 0 and confidence > conf_threshold:\n",
    "                width, height = image.shape[1], image.shape[0]\n",
    "                x, y, w, h = detection[:4] * np.array([width, height, width, height])\n",
    "                x_min, y_min = int(x - w / 2), int(y - h / 2)\n",
    "                boxes.append([x_min, y_min, int(w), int(h)])\n",
    "                confidences.append(float(confidence))\n",
    "                class_ids.append(class_id)\n",
    "    \n",
    "    indices = cv2.dnn.NMSBoxes(boxes, confidences, conf_threshold, nms_threshold)\n",
    "    \n",
    "    for box in indices:\n",
    "        x,y,w,h=boxes[box]\n",
    "        if(x>=300 and x<=650):\n",
    "            cv2.rectangle(image,(x,y),(x+w,y+h),(0,255,0),2)\n",
    "        else:\n",
    "            cv2.rectangle(image, (x, y), (x+w, y+h), (0, 0, 0), -1)\n",
    "        cv2.imwrite(f'./New/frame_{i}.jpg',image)\n",
    "        \n",
    "    if(len(indices)==0):\n",
    "        for box in boxes:\n",
    "            x,y,w,h=box\n",
    "            if(x>=300 and x<=650):\n",
    "                cv2.rectangle(image,(x,y),(x+w,y+h),(0,255,0),2)\n",
    "            else:\n",
    "                cv2.rectangle(image, (x, y), (x+w, y+h), (0, 0, 0), -1)\n",
    "        cv2.imwrite(f'./New/frame_{i}.jpg',image)    \n"
   ]
  },
  {
   "cell_type": "code",
   "execution_count": 9,
   "id": "4c941934",
   "metadata": {},
   "outputs": [
    {
     "name": "stdout",
     "output_type": "stream",
     "text": [
      "1898.406333208084\n"
     ]
    }
   ],
   "source": [
    "import time\n",
    "import cv2\n",
    "import numpy as np\n",
    "tic=time.time()\n",
    "for i in range(1,856,1):\n",
    "    frame=cv2.imread(f'./Top/Top_{i}.jpg')\n",
    "    isInteresting(frame,i)\n",
    "print(time.time()-tic)"
   ]
  },
  {
   "cell_type": "code",
   "execution_count": null,
   "id": "c7e0fef1",
   "metadata": {},
   "outputs": [],
   "source": [
    "print(time.time()-tic)"
   ]
  },
  {
   "cell_type": "markdown",
   "id": "8bfe1f97",
   "metadata": {},
   "source": [
    "### Cropped Check"
   ]
  },
  {
   "cell_type": "code",
   "execution_count": 28,
   "id": "8c37c95b",
   "metadata": {},
   "outputs": [],
   "source": [
    "def main2(frame, i, draw=False):\n",
    "    tic = time.time()\n",
    "    detector = poseDetector()\n",
    "    img = frame\n",
    "    img = detector.findPose(img)\n",
    "    lmList = detector.findPosition(img, draw=True)\n",
    "    cv2.imwrite(f\"./cropped/test{i}.jpg\",frame)\n",
    "i=1246\n",
    "frames=[]\n",
    "while(i<=1266):\n",
    "    frame=cv2.imread(f'./Frames/v4/frame_{i}.jpg')\n",
    "    frames.append(frame)\n",
    "    i+=1"
   ]
  },
  {
   "cell_type": "code",
   "execution_count": 30,
   "id": "ea43b49a",
   "metadata": {},
   "outputs": [
    {
     "name": "stdout",
     "output_type": "stream",
     "text": [
      "21\n"
     ]
    }
   ],
   "source": [
    "print(len(frames))\n",
    "for i in frames:\n",
    "    frame = i\n",
    "    x = 450  \n",
    "    width = 400  \n",
    "      \n",
    "    roi = frame[:, x:x+width]\n",
    "    cv2.imshow('ROI', roi)\n",
    "    cv2.waitKey(0)\n",
    "    cv2.destroyAllWindows()\n"
   ]
  },
  {
   "cell_type": "markdown",
   "id": "dcff9922",
   "metadata": {},
   "source": [
    "## Save Top half  of Frames"
   ]
  },
  {
   "cell_type": "code",
   "execution_count": 10,
   "id": "ac04d492",
   "metadata": {},
   "outputs": [],
   "source": [
    "cap=cv2.VideoCapture('ipl.mp4')\n",
    "while(True):\n",
    "    ret,frame=cap.read()\n",
    "    if not ret:\n",
    "        break\n",
    "    h,w,_=frame.shape\n",
    "    mid=h//2\n",
    "    top=frame[:mid,:]\n",
    "#     cv2.imshow(\"\",top)\n",
    "#     cv2.waitKey(0)\n",
    "cv2.destroyAllWindows()\n",
    "# for i in file_list:\n",
    "#     file_path = os.path.join(folder_path, i)\n",
    "#     frame=cv2.imread(file_path)\n",
    "#     h,w,_=frame.shape\n",
    "#     mid=h//2\n",
    "#     top=frame[:mid,:]\n",
    "#     k+=1\n",
    "#     f_path=f'./Top/Top_{k}.jpg'\n",
    "#     cv2.imwrite(f_path,top)"
   ]
  },
  {
   "cell_type": "code",
   "execution_count": 14,
   "id": "a1044eb4",
   "metadata": {},
   "outputs": [
    {
     "name": "stdout",
     "output_type": "stream",
     "text": [
      "8872.0\n"
     ]
    }
   ],
   "source": [
    "print(cap.get(cv2.CAP_PROP_FRAME_COUNT))"
   ]
  },
  {
   "cell_type": "markdown",
   "id": "2ac7c508",
   "metadata": {},
   "source": [
    "## Stick Contd."
   ]
  },
  {
   "cell_type": "code",
   "execution_count": 5,
   "id": "1825811f",
   "metadata": {},
   "outputs": [],
   "source": [
    "# folder_path = './Frames/v4/'\n",
    "# file_list =(os.listdir(folder_path))\n",
    "sorted_file_list = sorted(file_list, key=lambda x: int(re.search(r'\\d+', x).group()))\n",
    "# print(len(sorted_file_list))"
   ]
  },
  {
   "cell_type": "code",
   "execution_count": 163,
   "id": "97ed928f",
   "metadata": {},
   "outputs": [],
   "source": [
    "start_index = sorted_file_list.index('frame_11447.jpg')\n",
    "end_index = sorted_file_list.index('frame_11471.jpg')  \n",
    "k=11447\n",
    "desired_files = sorted_file_list[start_index:end_index]\n",
    "# check_frames=[]\n",
    "for file in desired_files:\n",
    "    frame=cv2.imread(os.path.join('./Frames/v4/',file))\n",
    "    x=450\n",
    "    width=400\n",
    "    top=frame[:,x:x+width] # saving particular width frame\n",
    "#     check_frames.append(top)\n",
    "    cv2.imwrite(f'./Top/Top_{k}.jpg',top)\n",
    "    k+=1"
   ]
  },
  {
   "cell_type": "code",
   "execution_count": 243,
   "id": "4add449d",
   "metadata": {},
   "outputs": [
    {
     "name": "stdout",
     "output_type": "stream",
     "text": [
      "94\n",
      "Multiple video clips extracted and saved to new_combined.mp4.\n"
     ]
    }
   ],
   "source": [
    "output_path = 'new_combined.mp4'\n",
    "fourcc = cv2.VideoWriter_fourcc(*'mp4v')\n",
    "video_out = cv2.VideoWriter(output_path, fourcc, output_fps, (output_width, output_height))\n",
    "folder_path = './Test/'\n",
    "file_list =(os.listdir(folder_path))\n",
    "sorted_file_list = sorted(file_list, key=lambda x: int(re.search(r'\\d+', x).group()))\n",
    "print(len(sorted_file_list))\n",
    "for file in sorted_file_list:\n",
    "    frame=cv2.imread(os.path.join('./Test/',file))\n",
    "    video_out.write(frame)\n",
    "cap.release()\n",
    "video_out.release()\n",
    "\n",
    "print(f\"Multiple video clips extracted and saved to {output_path}.\")\n"
   ]
  },
  {
   "cell_type": "markdown",
   "id": "0df1896c",
   "metadata": {},
   "source": [
    "## Stick Compl."
   ]
  }
 ],
 "metadata": {
  "kernelspec": {
   "display_name": "Python 3",
   "language": "python",
   "name": "python3"
  },
  "language_info": {
   "codemirror_mode": {
    "name": "ipython",
    "version": 3
   },
   "file_extension": ".py",
   "mimetype": "text/x-python",
   "name": "python",
   "nbconvert_exporter": "python",
   "pygments_lexer": "ipython3",
   "version": "3.9.4"
  }
 },
 "nbformat": 4,
 "nbformat_minor": 5
}
